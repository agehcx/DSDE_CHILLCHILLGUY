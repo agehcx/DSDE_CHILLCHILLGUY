{
 "cells": [
  {
   "cell_type": "code",
   "execution_count": null,
   "metadata": {
    "dotnet_interactive": {
     "language": "csharp"
    },
    "polyglot_notebook": {
     "kernelName": "csharp"
    }
   },
   "outputs": [],
   "source": [
    "import pandas as pd\n",
    "import json\n",
    "import os"
   ]
  },
  {
   "cell_type": "code",
   "execution_count": null,
   "metadata": {},
   "outputs": [],
   "source": [
    "years = [2018, 2019, 2020, 2021, 2022, 2023]\n",
    "years"
   ]
  },
  {
   "cell_type": "code",
   "execution_count": null,
   "metadata": {},
   "outputs": [],
   "source": [
    "for year in years:\n",
    "    file_rename_path = f'../Project/{year}'\n",
    "    \n",
    "    for file in os.listdir(file_rename_path):\n",
    "        full_path = os.path.join(file_rename_path, file)\n",
    "        if not file.endswith(\".json\") and os.path.isfile(full_path):\n",
    "            new_name = file + \".json\"\n",
    "            new_full_path = os.path.join(file_rename_path, new_name)\n",
    "            os.rename(full_path, new_full_path)\n",
    "            print(f\"Renamed the file {file} to {new_name}\")"
   ]
  },
  {
   "cell_type": "markdown",
   "metadata": {},
   "source": [
    "#### Test reading file data \n"
   ]
  },
  {
   "cell_type": "code",
   "execution_count": null,
   "metadata": {},
   "outputs": [],
   "source": [
    "df = pd.read_json('../Project/2018/201800000.json')"
   ]
  },
  {
   "cell_type": "code",
   "execution_count": null,
   "metadata": {},
   "outputs": [],
   "source": [
    "df.shape"
   ]
  },
  {
   "cell_type": "code",
   "execution_count": null,
   "metadata": {},
   "outputs": [],
   "source": [
    "df.describe()"
   ]
  },
  {
   "cell_type": "code",
   "execution_count": null,
   "metadata": {},
   "outputs": [],
   "source": [
    "df.columns"
   ]
  },
  {
   "cell_type": "code",
   "execution_count": null,
   "metadata": {},
   "outputs": [],
   "source": [
    "print(df.head())"
   ]
  },
  {
   "cell_type": "code",
   "execution_count": null,
   "metadata": {},
   "outputs": [],
   "source": [
    "df.info()"
   ]
  },
  {
   "cell_type": "code",
   "execution_count": null,
   "metadata": {},
   "outputs": [],
   "source": [
    "df"
   ]
  },
  {
   "cell_type": "code",
   "execution_count": null,
   "metadata": {},
   "outputs": [],
   "source": [
    "for i in df['abstracts-retrieval-response'].get('authors').get('author'):\n",
    "    print(i.get('ce:indexed-name'))"
   ]
  },
  {
   "cell_type": "code",
   "execution_count": null,
   "metadata": {},
   "outputs": [],
   "source": [
    "for i in df['abstracts-retrieval-response'].items():\n",
    "    print(i)"
   ]
  },
  {
   "cell_type": "code",
   "execution_count": null,
   "metadata": {},
   "outputs": [],
   "source": [
    "lang = df['abstracts-retrieval-response'].language.get('@xml:lang')\n",
    "lang"
   ]
  },
  {
   "cell_type": "code",
   "execution_count": null,
   "metadata": {},
   "outputs": [],
   "source": [
    "# df['abstracts-retrieval-response'].coredata"
   ]
  },
  {
   "cell_type": "code",
   "execution_count": null,
   "metadata": {},
   "outputs": [],
   "source": [
    "data_rows = []"
   ]
  },
  {
   "cell_type": "code",
   "execution_count": null,
   "metadata": {},
   "outputs": [],
   "source": [
    "for year in years:\n",
    "    folder_path = f\"../Project/{year}\"\n",
    "    for file_name in os.listdir(folder_path):\n",
    "        if file_name.startswith(str(year)) and file_name.endswith(\".json\"):\n",
    "            file_path = os.path.join(folder_path, file_name)\n",
    "            with open(file_path, \"r\", encoding=\"utf-8\") as file:\n",
    "                try:\n",
    "                    data = json.load(file)\n",
    "\n",
    "                    author_groups = (\n",
    "                        data.get(\"abstracts-retrieval-response\", {})\n",
    "                        .get(\"item\", {})\n",
    "                        .get(\"bibrecord\", {})\n",
    "                        .get(\"head\", {})\n",
    "                        .get(\"author-group\", [])\n",
    "                    )\n",
    "\n",
    "                    countries = []\n",
    "                    for author in author_groups:\n",
    "                        affiliation = author.get(\"affiliation\", {})\n",
    "                        country = affiliation.get(\"country\", \"Unknown\")\n",
    "                        countries.append(country)\n",
    "\n",
    "                    countries_string = \",\".join(countries)\n",
    "\n",
    "                    auth_keywords = (\n",
    "                        data.get(\"abstracts-retrieval-response\", {})\n",
    "                        .get(\"authkeywords\", {})\n",
    "                        .get(\"author-keyword\", [])\n",
    "                    )\n",
    "\n",
    "                    keywords = [\n",
    "                        keyword.get(\"$\", \"\")\n",
    "                        for keyword in auth_keywords\n",
    "                        if isinstance(keyword, dict)\n",
    "                    ]\n",
    "                    keywords_string = \",\".join(keywords) if keywords else \"null\"\n",
    "\n",
    "                    row_data = pd.json_normalize(\n",
    "                        data.get(\"abstracts-retrieval-response\", {})\n",
    "                    )\n",
    "                    row = {\n",
    "                        col: row_data[col].iloc[0] if col in row_data else pd.NA\n",
    "                        for col in row_data.columns\n",
    "                    }\n",
    "\n",
    "                    row[\"item.bibrecord.head.author-group.affiliation.country\"] = (\n",
    "                        countries_string\n",
    "                    )\n",
    "                    row[\"authkeywords.author-keyword\"] = keywords_string\n",
    "\n",
    "                    data_rows.append(row)\n",
    "\n",
    "                except Exception as e:\n",
    "                    continue\n",
    "                    # print(f\"Error processing file {file_name}: {e}\")"
   ]
  },
  {
   "cell_type": "code",
   "execution_count": null,
   "metadata": {},
   "outputs": [],
   "source": [
    "data_rows"
   ]
  },
  {
   "cell_type": "code",
   "execution_count": null,
   "metadata": {},
   "outputs": [],
   "source": [
    "df = pd.DataFrame(data_rows)"
   ]
  },
  {
   "cell_type": "code",
   "execution_count": null,
   "metadata": {},
   "outputs": [],
   "source": [
    "df.to_csv('../MergedData.csv', index=False)"
   ]
  },
  {
   "cell_type": "code",
   "execution_count": null,
   "metadata": {},
   "outputs": [],
   "source": [
    "df"
   ]
  },
  {
   "cell_type": "code",
   "execution_count": null,
   "metadata": {},
   "outputs": [],
   "source": [
    "listToRemove = []"
   ]
  },
  {
   "cell_type": "code",
   "execution_count": null,
   "metadata": {},
   "outputs": [],
   "source": [
    "for col in df.columns:\n",
    "    nullCnt = df[col].isna().sum()\n",
    "    print(nullCnt, end=\" \")\n",
    "    if (nullCnt > int(0.1 * len(df[col]))):\n",
    "        listToRemove.append(col)"
   ]
  },
  {
   "cell_type": "code",
   "execution_count": null,
   "metadata": {},
   "outputs": [],
   "source": [
    "listToRemove"
   ]
  }
 ],
 "metadata": {
  "kernelspec": {
   "display_name": "Python 3",
   "language": "python",
   "name": "python3"
  },
  "language_info": {
   "codemirror_mode": {
    "name": "ipython",
    "version": 3
   },
   "file_extension": ".py",
   "mimetype": "text/x-python",
   "name": "python",
   "nbconvert_exporter": "python",
   "pygments_lexer": "ipython3",
   "version": "3.11.10"
  },
  "polyglot_notebook": {
   "kernelInfo": {
    "defaultKernelName": "csharp",
    "items": [
     {
      "aliases": [],
      "name": "csharp"
     }
    ]
   }
  }
 },
 "nbformat": 4,
 "nbformat_minor": 2
}
